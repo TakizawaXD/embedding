{
 "cells": [
  {
   "cell_type": "code",
   "execution_count": null,
   "metadata": {},
   "outputs": [],
   "source": [
    "# Importar las bibliotecas necesarias\n",
    "from transformers import DistilBertTokenizer, DistilBertModel\n",
    "import torch\n",
    "import numpy as np\n",
    "from sklearn.metrics.pairwise import cosine_similarity\n",
    "\n",
    "# Cargar el tokenizador y el modelo DistilBERT\n",
    "tokenizer = DistilBertTokenizer.from_pretrained('distilbert-base-uncased')\n",
    "model = DistilBertModel.from_pretrained('distilbert-base-uncased')\n",
    "\n",
    "# Lista para almacenar los documentos\n",
    "documents = []\n",
    "\n"
   ]
  },
  {
   "cell_type": "code",
   "execution_count": null,
   "metadata": {},
   "outputs": [],
   "source": [
    "# Función para obtener la representación vectorial (embedding) del texto\n",
    "def get_embedding(text):\n",
    "    inputs = tokenizer(text, return_tensors='pt', padding=True, truncation=True)\n",
    "    outputs = model(**inputs)\n",
    "    embedding = outputs.last_hidden_state.mean(dim=1).detach().numpy()\n",
    "    return embedding\n"
   ]
  },
  {
   "cell_type": "code",
   "execution_count": null,
   "metadata": {},
   "outputs": [],
   "source": [
    "# Función para crear un documento\n",
    "def create_document(text):\n",
    "    embedding = get_embedding(text)\n",
    "    document = {\n",
    "        'text': text,\n",
    "        'embedding': embedding.tolist()\n",
    "    }\n",
    "    documents.append(document)\n",
    "    print(\"Documento creado con éxito.\")\n"
   ]
  },
  {
   "cell_type": "code",
   "execution_count": null,
   "metadata": {},
   "outputs": [],
   "source": [
    "# Función para leer los documentos\n",
    "def read_documents():\n",
    "    if not documents:\n",
    "        print(\"No hay documentos disponibles.\")\n",
    "        return\n",
    "    for doc in documents:\n",
    "        print(f\"Texto: {doc['text']}\")\n"
   ]
  },
  {
   "cell_type": "code",
   "execution_count": null,
   "metadata": {},
   "outputs": [],
   "source": [
    "# Función para actualizar un documento\n",
    "def update_document(doc_index, new_text):\n",
    "    if 0 <= doc_index < len(documents):\n",
    "        new_embedding = get_embedding(new_text)\n",
    "        documents[doc_index] = {'text': new_text, 'embedding': new_embedding.tolist()}\n",
    "        print(\"Documento actualizado con éxito.\")\n",
    "    else:\n",
    "        print(\"Índice de documento no válido.\")\n"
   ]
  },
  {
   "cell_type": "code",
   "execution_count": null,
   "metadata": {},
   "outputs": [],
   "source": [
    "# Función para eliminar un documento\n",
    "def delete_document(doc_index):\n",
    "    if 0 <= doc_index < len(documents):\n",
    "        del documents[doc_index]\n",
    "        print(\"Documento eliminado con éxito.\")\n",
    "    else:\n",
    "        print(\"Índice de documento no válido.\")\n"
   ]
  },
  {
   "cell_type": "code",
   "execution_count": null,
   "metadata": {},
   "outputs": [],
   "source": [
    "# Función para buscar documentos similares a un texto de consulta\n",
    "def search_similar_documents(query_text):\n",
    "    query_embedding = get_embedding(query_text).flatten()\n",
    "    similarities = []\n",
    "    for idx, doc in enumerate(documents):\n",
    "        doc_embedding = np.array(doc['embedding']).flatten()\n",
    "        similarity = cosine_similarity([query_embedding], [doc_embedding])\n",
    "        similarities.append((idx, doc['text'], similarity[0][0]))\n",
    "    similarities.sort(key=lambda x: x[2], reverse=True)\n",
    "    \n",
    "    print(\"Documentos más similares:\")\n",
    "    for doc_index, text, sim in similarities[:5]:  \n",
    "        print(f\"Índice: {doc_index}, Texto: {text}, Similitud: {sim:.4f}\")\n"
   ]
  },
  {
   "cell_type": "code",
   "execution_count": null,
   "metadata": {},
   "outputs": [],
   "source": [
    "# Función del menú interactivo\n",
    "def menu():\n",
    "    while True:\n",
    "        print(\"\\nOperaciones CRUD con Hugging Face\")\n",
    "        print(\"1. Crear documento\")\n",
    "        print(\"2. Leer documentos\")\n",
    "        print(\"3. Actualizar documento\")\n",
    "        print(\"4. Eliminar documento\")\n",
    "        print(\"5. Buscar documentos por similitud\")\n",
    "        print(\"6. Salir\")\n",
    "        try:\n",
    "            option = int(input(\"Seleccione una opción (1/2/3/4/5/6): \"))\n",
    "            \n",
    "            if option == 1:\n",
    "                text = input(\"Ingrese el texto para crear: \")\n",
    "                create_document(text)\n",
    "            \n",
    "            elif option == 2:\n",
    "                read_documents()\n",
    "            \n",
    "            elif option == 3:\n",
    "                doc_index = int(input(\"Ingrese el índice del documento a actualizar: \"))\n",
    "                new_text = input(\"Ingrese el nuevo texto: \")\n",
    "                update_document(doc_index, new_text)\n",
    "            \n",
    "            elif option == 4:\n",
    "                doc_index = int(input(\"Ingrese el índice del documento a eliminar: \"))\n",
    "                delete_document(doc_index)\n",
    "            \n",
    "            elif option == 5:\n",
    "                query_text = input(\"Ingrese el texto para buscar documentos similares: \")\n",
    "                search_similar_documents(query_text)\n",
    "            \n",
    "            elif option == 6:\n",
    "                print(\"Saliendo...\")\n",
    "                break\n",
    "            \n",
    "            else:\n",
    "                print(\"Opción no válida. Por favor, seleccione una opción válida.\")\n",
    "        \n",
    "        except Exception as e:\n",
    "            print(f\"Error: {e}\")\n",
    "\n",
    "menu()\n"
   ]
  }
 ],
 "metadata": {
  "kernelspec": {
   "display_name": "Python 3",
   "language": "python",
   "name": "python3"
  },
  "language_info": {
   "name": "python",
   "version": "3.10.11"
  }
 },
 "nbformat": 4,
 "nbformat_minor": 2
}
